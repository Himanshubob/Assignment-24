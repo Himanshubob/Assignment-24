{
 "cells": [
  {
   "cell_type": "markdown",
   "id": "5b13ebf2",
   "metadata": {},
   "source": [
    "# Q1. What is Statistics?"
   ]
  },
  {
   "cell_type": "markdown",
   "id": "d489b9b0",
   "metadata": {},
   "source": [
    "# ans.. statistic is the science of collecting ordering and analyzing data."
   ]
  },
  {
   "cell_type": "markdown",
   "id": "9eeb4abe",
   "metadata": {},
   "source": [
    "# Q2. Define the different types of statistics and give an example of when each type might be used."
   ]
  },
  {
   "cell_type": "markdown",
   "id": "134f5c8f",
   "metadata": {},
   "source": [
    "# ans .. statistic are two type\n",
    "# 1.Descriptive\n",
    "# 2. Infercntial\n",
    "# Descriptive data uesed to the mean median etc calculating \n",
    "# infercntial data used to the pdf pmf  etc."
   ]
  },
  {
   "cell_type": "markdown",
   "id": "006e7db8",
   "metadata": {},
   "source": [
    "# Q3. What are the different types of data and how do they differ from each other? Provide an example ofeach type of data."
   ]
  },
  {
   "cell_type": "markdown",
   "id": "c883eb8f",
   "metadata": {},
   "source": [
    "# ans.. Data are two type  \n",
    "# 1.Quentitative\n",
    "# 2. Qualitative \n",
    " # ex.. no of bank account \n",
    " # ex..gender "
   ]
  },
  {
   "cell_type": "markdown",
   "id": "d1f234cc",
   "metadata": {},
   "source": [
    "# Q4. Categorise the following datasets with respect to quantitative and qualitative data types:\n",
    "\n",
    "# ans...\n",
    "\n",
    "# (i) Grading in exam: A+, A, B+, B, C+, C, D, E ==Qualitative  with ordinal\n",
    "\n",
    "# (ii) Colour of mangoes: yellow, green, orange, red == Qualtative nominal data\n",
    "\n",
    "# (iii) Height data of a class: [178.9, 179, 179.5, 176, 177.2, 178.3, 175.8,...]==Quentitative with continous\n",
    "\n",
    "# (iv) Number of mangoes exported by a farm: [500, 600, 478, 672, ...] == Quentitative with discrete "
   ]
  },
  {
   "cell_type": "markdown",
   "id": "4cab3562",
   "metadata": {},
   "source": [
    "# Q5. Explain the concept of levels of measurement and give an example of a variable for each level."
   ]
  },
  {
   "cell_type": "markdown",
   "id": "1fe84872",
   "metadata": {},
   "source": [
    "# scaling of measurement :\n",
    "# 1. nomial scale data\n",
    "# 2 . ORDINAL SCALE \n",
    "# 3 Intrval scale data\n",
    "# 4. Ratio scale data"
   ]
  },
  {
   "cell_type": "markdown",
   "id": "a6604f43",
   "metadata": {},
   "source": [
    "# Q6. Why is it important to understand the level of measurement when analyzing data? Provide an example to illustrate your answer."
   ]
  },
  {
   "cell_type": "markdown",
   "id": "6ce0b955",
   "metadata": {},
   "source": [
    "# ans..becaue not understand  the data not meaurement properly  and not filter the data properly "
   ]
  },
  {
   "cell_type": "markdown",
   "id": "3be9d2de",
   "metadata": {},
   "source": [
    "# Q7. How nominal data type is different from ordinal data type."
   ]
  },
  {
   "cell_type": "markdown",
   "id": "edcf6e7c",
   "metadata": {},
   "source": [
    "# Nominal : data type is not mater the rank  ex: gender , blood group\n",
    "# ordinal: data type  is mater the rank  ex; feedback of any company"
   ]
  },
  {
   "cell_type": "markdown",
   "id": "16785f90",
   "metadata": {},
   "source": [
    "# Q9. Describe the difference between descriptive and inferential statistics. Give an example of each type of statistics and explain how they are used."
   ]
  },
  {
   "cell_type": "code",
   "execution_count": null,
   "id": "96ce1f28",
   "metadata": {},
   "outputs": [],
   "source": []
  },
  {
   "cell_type": "markdown",
   "id": "8de21742",
   "metadata": {},
   "source": [
    "# ans.. Descriptive :if consist  of organizing and summarizing data   measure  mean mode ,std etc\n",
    "# Infercntial : if consists  using data you have measured to from conclusion  z- test ,ptest "
   ]
  },
  {
   "cell_type": "markdown",
   "id": "dfef8d4c",
   "metadata": {},
   "source": [
    "# Q10. What are some common measures of central tendency and variability used in statistics? Explain how each measure can be used to describe a dataset."
   ]
  },
  {
   "cell_type": "markdown",
   "id": "792f2a9f",
   "metadata": {},
   "source": [
    "# ans .. common ranking is impotanat or not \n",
    "# order mater \n",
    "# difference can be measured"
   ]
  },
  {
   "cell_type": "code",
   "execution_count": null,
   "id": "3625aa6b",
   "metadata": {},
   "outputs": [],
   "source": []
  }
 ],
 "metadata": {
  "kernelspec": {
   "display_name": "Python 3 (ipykernel)",
   "language": "python",
   "name": "python3"
  },
  "language_info": {
   "codemirror_mode": {
    "name": "ipython",
    "version": 3
   },
   "file_extension": ".py",
   "mimetype": "text/x-python",
   "name": "python",
   "nbconvert_exporter": "python",
   "pygments_lexer": "ipython3",
   "version": "3.10.9"
  }
 },
 "nbformat": 4,
 "nbformat_minor": 5
}
